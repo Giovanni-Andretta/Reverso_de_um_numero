{
 "cells": [
  {
   "cell_type": "code",
   "execution_count": 2,
   "id": "f1682589",
   "metadata": {},
   "outputs": [
    {
     "name": "stdout",
     "output_type": "stream",
     "text": [
      "==================================================\n",
      "\n",
      "Digite um numero: 598746\n",
      "647895\n",
      "\n",
      "==================================================\n"
     ]
    }
   ],
   "source": [
    "#Giovanni Andretta Carbonero\n",
    "\n",
    "#Função que recebe um valor inteiro e o inverte\n",
    "def reverso(rev):\n",
    "    inverte = str(rev)\n",
    "    return inverte[::-1]\n",
    "\n",
    "#Função principal\n",
    "def main():\n",
    "    \n",
    "    print(\"=\"*50 + \"\\n\")\n",
    "    \n",
    "    num = int(input(\"Digite um numero: \"))\n",
    "    print(reverso(num))\n",
    "    \n",
    "    print(\"\\n\" + \"=\"*50)\n",
    "    \n",
    "    \n",
    "main()"
   ]
  },
  {
   "cell_type": "code",
   "execution_count": null,
   "id": "5920c2c6",
   "metadata": {},
   "outputs": [],
   "source": []
  }
 ],
 "metadata": {
  "kernelspec": {
   "display_name": "Python 3",
   "language": "python",
   "name": "python3"
  },
  "language_info": {
   "codemirror_mode": {
    "name": "ipython",
    "version": 3
   },
   "file_extension": ".py",
   "mimetype": "text/x-python",
   "name": "python",
   "nbconvert_exporter": "python",
   "pygments_lexer": "ipython3",
   "version": "3.8.8"
  }
 },
 "nbformat": 4,
 "nbformat_minor": 5
}
